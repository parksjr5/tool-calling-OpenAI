{
 "cells": [
  {
   "cell_type": "code",
   "execution_count": 1,
   "metadata": {},
   "outputs": [
    {
     "name": "stderr",
     "output_type": "stream",
     "text": [
      "/Users/jparks/Repositories/tool-calling-OpenAI/.venv/lib/python3.9/site-packages/urllib3/__init__.py:35: NotOpenSSLWarning: urllib3 v2 only supports OpenSSL 1.1.1+, currently the 'ssl' module is compiled with 'LibreSSL 2.8.3'. See: https://github.com/urllib3/urllib3/issues/3020\n",
      "  warnings.warn(\n"
     ]
    }
   ],
   "source": [
    "import creds\n",
    "import json\n",
    "import requests\n",
    "import pycronofy\n",
    "import datetime\n",
    "\n",
    "token = creds.credentials['cronofy_access_token']\n",
    "\n",
    "cronofy = pycronofy.Client(access_token=token)"
   ]
  },
  {
   "cell_type": "code",
   "execution_count": 2,
   "metadata": {},
   "outputs": [],
   "source": [
    "import calendars\n",
    "\n",
    "test = calendars.get_upcoming_events()"
   ]
  },
  {
   "cell_type": "code",
   "execution_count": 16,
   "metadata": {},
   "outputs": [
    {
     "data": {
      "text/plain": [
       "str"
      ]
     },
     "execution_count": 16,
     "metadata": {},
     "output_type": "execute_result"
    }
   ],
   "source": [
    "import uuid\n",
    "event_id = 'example-%s' % uuid.uuid4()\n",
    "type(event_id)"
   ]
  },
  {
   "cell_type": "code",
   "execution_count": 4,
   "metadata": {},
   "outputs": [],
   "source": [
    "import datetime\n",
    "import uuid\n",
    "\n",
    "# Example timezone id\n",
    "timezone_id = 'US/Eastern'\n",
    "\n",
    "event_id = 'example-%s' % uuid.uuid4()\n",
    "\n",
    "event = {\n",
    "    'event_id': event_id,\n",
    "    'summary': 'Test Event', # The event title\n",
    "    'description': 'Discuss proactive strategies for a reactive world.',\n",
    "    'start': datetime.datetime.now(),\n",
    "    'end': (datetime.datetime.now() + datetime.timedelta(hours=0.5)),\n",
    "    'tzid': timezone_id,\n",
    "    'location': {\n",
    "        'description': 'My Desk!',\n",
    "    },\n",
    "}\n",
    "\n",
    "cronofy.upsert_event(calendar_id=creds.credentials['apple_cal_id_home'], event=event)"
   ]
  },
  {
   "cell_type": "code",
   "execution_count": 5,
   "metadata": {},
   "outputs": [
    {
     "data": {
      "text/plain": [
       "'example-687919a0-7f09-4fd5-9d48-2d98e5ead352'"
      ]
     },
     "execution_count": 5,
     "metadata": {},
     "output_type": "execute_result"
    }
   ],
   "source": [
    "event_id"
   ]
  },
  {
   "cell_type": "code",
   "execution_count": 6,
   "metadata": {},
   "outputs": [
    {
     "data": {
      "text/plain": [
       "True"
      ]
     },
     "execution_count": 6,
     "metadata": {},
     "output_type": "execute_result"
    }
   ],
   "source": [
    "cronofy.is_authorization_expired()"
   ]
  },
  {
   "cell_type": "code",
   "execution_count": 7,
   "metadata": {},
   "outputs": [
    {
     "data": {
      "text/plain": [
       "{'sub': 'acc_680667ecccf14b0120ea4aaf',\n",
       " 'email': 'jparks@onemagnify.com',\n",
       " 'name': 'J Parks',\n",
       " 'zoneinfo': 'America/New_York',\n",
       " 'cronofy.type': 'account',\n",
       " 'cronofy.data': {'authorization': {'scope': 'read_write', 'status': 'active'},\n",
       "  'profiles': [{'provider_name': 'apple',\n",
       "    'provider_service': 'icloud',\n",
       "    'profile_id': 'pro_aAafvSXIzKRSKOjo',\n",
       "    'profile_name': 'jparks@onemagnify.com',\n",
       "    'profile_connected': True,\n",
       "    'profile_initial_sync_required': False,\n",
       "    'profile_calendars': [{'calendar_id': 'cal_aAafvSXIzKRSKOjo_3ZzYOebYYsQXXukAOeyYsQ',\n",
       "      'calendar_name': 'Work',\n",
       "      'calendar_readonly': False,\n",
       "      'calendar_deleted': False,\n",
       "      'calendar_primary': False,\n",
       "      'calendar_integrated_conferencing_available': False,\n",
       "      'calendar_attachments_available': True,\n",
       "      'permission_level': 'sandbox'},\n",
       "     {'calendar_id': 'cal_aAafvSXIzKRSKOjo_6ylpdE50D@Ld6MHJTM6xGA',\n",
       "      'calendar_name': 'Home',\n",
       "      'calendar_readonly': False,\n",
       "      'calendar_deleted': False,\n",
       "      'calendar_primary': False,\n",
       "      'calendar_integrated_conferencing_available': False,\n",
       "      'calendar_attachments_available': True,\n",
       "      'permission_level': 'sandbox'}]}],\n",
       "  'conferencing_profiles': []}}"
      ]
     },
     "execution_count": 7,
     "metadata": {},
     "output_type": "execute_result"
    }
   ],
   "source": [
    "cronofy.userinfo()"
   ]
  },
  {
   "cell_type": "code",
   "execution_count": 8,
   "metadata": {},
   "outputs": [
    {
     "data": {
      "text/plain": [
       "[{'start': '2025-04-24T10:00:00Z',\n",
       "  'end': '2025-04-24T10:30:00Z',\n",
       "  'free_busy_status': 'busy'},\n",
       " {'start': '2025-04-24T15:00:00Z',\n",
       "  'end': '2025-04-24T16:00:00Z',\n",
       "  'free_busy_status': 'busy'},\n",
       " {'start': '2025-04-24T16:30:00Z',\n",
       "  'end': '2025-04-24T17:00:00Z',\n",
       "  'free_busy_status': 'busy'},\n",
       " {'start': '2025-04-24T17:00:00Z',\n",
       "  'end': '2025-04-24T18:00:00Z',\n",
       "  'free_busy_status': 'busy'},\n",
       " {'start': '2025-04-24T18:30:00Z',\n",
       "  'end': '2025-04-24T19:00:00Z',\n",
       "  'free_busy_status': 'busy'},\n",
       " {'start': '2025-04-24T19:30:00Z',\n",
       "  'end': '2025-04-24T20:00:00Z',\n",
       "  'free_busy_status': 'busy'},\n",
       " {'start': '2025-04-27T14:00:00Z',\n",
       "  'end': '2025-04-27T19:00:00Z',\n",
       "  'free_busy_status': 'busy'},\n",
       " {'start': '2025-04-28T18:00:00Z',\n",
       "  'end': '2025-04-28T19:00:00Z',\n",
       "  'free_busy_status': 'busy'},\n",
       " {'start': '2025-04-28T20:00:00Z',\n",
       "  'end': '2025-04-28T20:15:00Z',\n",
       "  'free_busy_status': 'busy'}]"
      ]
     },
     "execution_count": 8,
     "metadata": {},
     "output_type": "execute_result"
    }
   ],
   "source": [
    "to_date = (datetime.datetime.now() + datetime.timedelta(days=5))\n",
    "from_date = datetime.datetime.now()\n",
    "free_busy_blocks = cronofy.read_free_busy(calendar_ids=(creds.credentials['apple_cal_id_home']),\n",
    "    from_date=from_date,\n",
    "    to_date=to_date\n",
    ")\n",
    "\n",
    "events = []\n",
    "for block in free_busy_blocks:\n",
    "    block.pop('calendar_id', None)\n",
    "    events.append(block)\n",
    "events"
   ]
  },
  {
   "cell_type": "code",
   "execution_count": 14,
   "metadata": {},
   "outputs": [
    {
     "name": "stdout",
     "output_type": "stream",
     "text": [
      "<class 'str'>\n"
     ]
    },
    {
     "data": {
      "text/plain": [
       "datetime.datetime(2025, 4, 24, 10, 0)"
      ]
     },
     "execution_count": 14,
     "metadata": {},
     "output_type": "execute_result"
    }
   ],
   "source": [
    "print(type(events[0]['start']))\n",
    "datetime_object = datetime.datetime.strptime(events[0]['start'], \"%Y-%m-%dT%H:%M:%SZ\")\n",
    "datetime_object"
   ]
  },
  {
   "cell_type": "code",
   "execution_count": null,
   "metadata": {},
   "outputs": [],
   "source": [
    "block.pop('calendar_id', None)\n",
    "block\n"
   ]
  },
  {
   "cell_type": "code",
   "execution_count": null,
   "metadata": {},
   "outputs": [],
   "source": [
    "utc_time = datetime.datetime.strptime(block['start'], \"%Y-%m-%dT%H:%M:%SZ\")\n",
    "import pytz\n",
    "utc = pytz.utc\n",
    "utc_time = utc.localize(utc_time)\n",
    "\n",
    "# Step 3: Convert to your timezone (e.g., US/Pacific or Europe/London)\n",
    "local_tz = pytz.timezone(\"America/New_York\")  # change to your timezone\n",
    "local_time = utc_time.astimezone(local_tz)\n",
    "\n",
    "# Step 4: Extract date and time\n",
    "print(\"Date:\", local_time.date())\n",
    "print(\"Time:\", local_time.time())"
   ]
  },
  {
   "cell_type": "code",
   "execution_count": null,
   "metadata": {},
   "outputs": [],
   "source": []
  }
 ],
 "metadata": {
  "kernelspec": {
   "display_name": ".venv",
   "language": "python",
   "name": "python3"
  },
  "language_info": {
   "codemirror_mode": {
    "name": "ipython",
    "version": 3
   },
   "file_extension": ".py",
   "mimetype": "text/x-python",
   "name": "python",
   "nbconvert_exporter": "python",
   "pygments_lexer": "ipython3",
   "version": "3.9.6"
  }
 },
 "nbformat": 4,
 "nbformat_minor": 2
}
