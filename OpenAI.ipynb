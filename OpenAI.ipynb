{
 "cells": [
  {
   "cell_type": "markdown",
   "metadata": {},
   "source": [
    "Helpful to know exists - Request body:   \n",
    "https://platform.openai.com/docs/api-reference/responses/create\n",
    "- parallel tool calling: allow calling tools in parallel or not\n",
    "- previous_response_id: allows for multi-turn\n",
    "  - instructions: will not be carried over to next call if multi-turn activated\n",
    "- include: can include files returned in search after tool call\n",
    "- tool_choice: how the model should select which tool to choose when generating a response\n",
    "- tools: the actual tools to call (web search, file search)\n",
    "\n",
    "- gpt 4.1 nano is most cost effective for now"
   ]
  },
  {
   "cell_type": "markdown",
   "metadata": {},
   "source": [
    "#### Import Credentials"
   ]
  },
  {
   "cell_type": "code",
   "execution_count": null,
   "metadata": {},
   "outputs": [],
   "source": [
    "# !pip install openai\n",
    "# !pip install requests"
   ]
  },
  {
   "cell_type": "code",
   "execution_count": 22,
   "metadata": {},
   "outputs": [],
   "source": [
    "from creds import credentials\n",
    "import weather\n",
    "import json\n",
    "from openai import OpenAI\n",
    "import os"
   ]
  },
  {
   "cell_type": "code",
   "execution_count": null,
   "metadata": {},
   "outputs": [],
   "source": [
    "# get keys\n",
    "openai_key = credentials['tool-calling-OpenAI']\n",
    "weather_api = credentials['weather_api']"
   ]
  },
  {
   "cell_type": "markdown",
   "metadata": {},
   "source": [
    "#### Make tool\n",
    "Must define function to use + how to use it"
   ]
  },
  {
   "cell_type": "code",
   "execution_count": 13,
   "metadata": {},
   "outputs": [],
   "source": [
    "weather_tool = [\n",
    "    # weather tool\n",
    "    {\n",
    "        \"type\": \"function\",\n",
    "        \"name\": \"get_weather\",\n",
    "        \"description\":\"get temperature, humidity, precipitation, wind speed for specified location for the next 5 days.\",\n",
    "        \"parameters\":{\n",
    "            \"type\": \"object\",\n",
    "            \"properties\": {\n",
    "                \"lat\": {\"type\":\"number\"},\n",
    "                \"long\":{\"type\":\"number\"}\n",
    "            },\n",
    "            \"required\": [\"lat\", \"long\"],\n",
    "            \"additionalProperties\": False\n",
    "        },\n",
    "    \"strict\" : True\n",
    "}]"
   ]
  },
  {
   "cell_type": "code",
   "execution_count": 7,
   "metadata": {},
   "outputs": [],
   "source": [
    "input_message = [{\n",
    "    \"role\":\"user\",\n",
    "    \"content\": \"What is the weather going to be in Detroit?\"\n",
    "}]"
   ]
  },
  {
   "cell_type": "markdown",
   "metadata": {},
   "source": [
    "#### Agent #1: Extract location and get weather from prompt\n",
    "Get next 5 days of weather"
   ]
  },
  {
   "cell_type": "code",
   "execution_count": null,
   "metadata": {},
   "outputs": [
    {
     "name": "stdout",
     "output_type": "stream",
     "text": [
      "\n"
     ]
    }
   ],
   "source": [
    "client = OpenAI(api_key=openai_key)\n",
    "\n",
    "response = client.responses.create(\n",
    "    model=\"gpt-4.1-nano\",\n",
    "    input=input_message,\n",
    "    tools=weather_tool\n",
    ")\n",
    "\n",
    "print(response.output_text)\n"
   ]
  },
  {
   "cell_type": "code",
   "execution_count": null,
   "metadata": {},
   "outputs": [],
   "source": [
    "tool_call = response.output[0]\n",
    "args = json.loads(tool_call.arguments)\n",
    "\n",
    "result = weather.get_weather(args[\"lat\"], args[\"long\"])"
   ]
  },
  {
   "cell_type": "markdown",
   "metadata": {},
   "source": [
    "#### Agent #2: Review the weather and evaluate when it would be best to run outside"
   ]
  },
  {
   "cell_type": "code",
   "execution_count": null,
   "metadata": {},
   "outputs": [],
   "source": []
  },
  {
   "cell_type": "code",
   "execution_count": 27,
   "metadata": {},
   "outputs": [
    {
     "data": {
      "text/plain": [
       "'{\"data\":{\"timelines\":[{\"timestep\":\"1d\",\"endTime\":\"2025-04-23T10:00:00Z\",\"startTime\":\"2025-04-18T10:00:00Z\",\"intervals\":[{\"startTime\":\"2025-04-18T10:00:00Z\",\"values\":{\"humidityAvg\":54,\"precipitationProbability\":0,\"temperature\":80.6,\"windSpeed\":16.9}},{\"startTime\":\"2025-04-19T10:00:00Z\",\"values\":{\"humidityAvg\":68,\"precipitationProbability\":0,\"temperature\":65,\"windSpeed\":14.7}},{\"startTime\":\"2025-04-20T10:00:00Z\",\"values\":{\"humidityAvg\":68,\"precipitationProbability\":20,\"temperature\":52,\"windSpeed\":11.2}},{\"startTime\":\"2025-04-21T10:00:00Z\",\"values\":{\"humidityAvg\":74,\"precipitationProbability\":35,\"temperature\":72.2,\"windSpeed\":18.1}},{\"startTime\":\"2025-04-22T10:00:00Z\",\"values\":{\"humidityAvg\":73,\"precipitationProbability\":0,\"temperature\":60.8,\"windSpeed\":11.3}},{\"startTime\":\"2025-04-23T10:00:00Z\",\"values\":{\"humidityAvg\":88,\"precipitationProbability\":10,\"temperature\":67.5,\"windSpeed\":8.1}}]}]}}'"
      ]
     },
     "execution_count": 27,
     "metadata": {},
     "output_type": "execute_result"
    }
   ],
   "source": [
    "result.text"
   ]
  },
  {
   "cell_type": "code",
   "execution_count": null,
   "metadata": {},
   "outputs": [],
   "source": []
  }
 ],
 "metadata": {
  "kernelspec": {
   "display_name": ".venv",
   "language": "python",
   "name": "python3"
  },
  "language_info": {
   "codemirror_mode": {
    "name": "ipython",
    "version": 3
   },
   "file_extension": ".py",
   "mimetype": "text/x-python",
   "name": "python",
   "nbconvert_exporter": "python",
   "pygments_lexer": "ipython3",
   "version": "3.9.6"
  }
 },
 "nbformat": 4,
 "nbformat_minor": 2
}
