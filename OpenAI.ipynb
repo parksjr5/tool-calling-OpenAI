{
 "cells": [
  {
   "cell_type": "markdown",
   "metadata": {},
   "source": [
    "Helpful to know exists - Request body:   \n",
    "https://platform.openai.com/docs/api-reference/responses/create\n",
    "- parallel tool calling: allow calling tools in parallel or not\n",
    "- previous_response_id: allows for multi-turn\n",
    "  - instructions: will not be carried over to next call if multi-turn activated\n",
    "- include: can include files returned in search after tool call\n",
    "- tool_choice: how the model should select which tool to choose when generating a response\n",
    "- tools: the actual tools to call (web search, file search)"
   ]
  },
  {
   "cell_type": "code",
   "execution_count": null,
   "metadata": {},
   "outputs": [],
   "source": []
  }
 ],
 "metadata": {
  "language_info": {
   "name": "python"
  }
 },
 "nbformat": 4,
 "nbformat_minor": 2
}
