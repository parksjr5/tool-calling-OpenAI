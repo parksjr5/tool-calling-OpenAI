{
 "cells": [
  {
   "cell_type": "markdown",
   "metadata": {},
   "source": [
    "Helpful to know exists - Request body:   \n",
    "https://platform.openai.com/docs/api-reference/responses/create\n",
    "- parallel tool calling: allow calling tools in parallel or not\n",
    "- previous_response_id: allows for multi-turn\n",
    "  - instructions: will not be carried over to next call if multi-turn activated\n",
    "- include: can include files returned in search after tool call\n",
    "- tool_choice: how the model should select which tool to choose when generating a response\n",
    "- tools: the actual tools to call (web search, file search)\n",
    "\n",
    "- gpt 4.1 nano is most cost effective for now"
   ]
  },
  {
   "cell_type": "markdown",
   "metadata": {},
   "source": [
    "#### \n",
    "\n",
    "Goal: Review upcoming weather to determine when would be the best time period for someone to run.   \n",
    "- Agent 1: Extract longitude and latitude coordinates from city in prompt, return weather \n",
    "- Agent 2: Evaluate when is best time period to run"
   ]
  },
  {
   "cell_type": "markdown",
   "metadata": {},
   "source": [
    "### Import Credentials"
   ]
  },
  {
   "cell_type": "code",
   "execution_count": null,
   "metadata": {},
   "outputs": [],
   "source": [
    "# !pip install openai\n",
    "# !pip install requests"
   ]
  },
  {
   "cell_type": "code",
   "execution_count": null,
   "metadata": {},
   "outputs": [],
   "source": [
    "from creds import credentials\n",
    "import calendars\n",
    "import weather\n",
    "import json\n",
    "from openai import OpenAI\n",
    "import os"
   ]
  },
  {
   "cell_type": "code",
   "execution_count": null,
   "metadata": {},
   "outputs": [],
   "source": [
    "# get keys\n",
    "openai_key = credentials['tool-calling-OpenAI']\n",
    "weather_api = credentials['weather_api']"
   ]
  },
  {
   "cell_type": "markdown",
   "metadata": {},
   "source": [
    "## Make tool\n",
    "Must define function to use + how to use it\n",
    "\n",
    "**Notes**  \n",
    "When strict = True:\n",
    "- all properties/params must be inputted in required list\n",
    "- additionalProperties is False (what does this mean??)"
   ]
  },
  {
   "cell_type": "markdown",
   "metadata": {},
   "source": [
    "## *Agent #1: Extract location and get weather from prompt*\n",
    "- Goal: Get next 5 days of weather\n",
    "- Practice: Setting up API call"
   ]
  },
  {
   "cell_type": "code",
   "execution_count": null,
   "metadata": {},
   "outputs": [],
   "source": [
    "# 1A: Define function\n",
    "\n",
    "weather_tool = [\n",
    "    # weather tool\n",
    "    {\n",
    "        \"type\": \"function\",\n",
    "        \"name\": \"get_weather\",\n",
    "        \"description\":\"get temperature, humidity, precipitation, wind speed for specified location for the next 5 days.\",\n",
    "        \"parameters\":{\n",
    "            # param names + types\n",
    "            \"type\": \"object\",\n",
    "            \"properties\": {\n",
    "                \"lat\": {\"type\":\"number\"},\n",
    "                \"long\":{\"type\":\"number\"}\n",
    "            },\n",
    "            # all params in required b/c strict = True\n",
    "            \"required\": [\"lat\", \"long\"],\n",
    "            \"additionalProperties\": False\n",
    "        },\n",
    "    # recommended to always use true\n",
    "    # does not allow model to skip parameteres\n",
    "    \"strict\" : True\n",
    "}]"
   ]
  },
  {
   "cell_type": "code",
   "execution_count": null,
   "metadata": {},
   "outputs": [],
   "source": [
    "# 1B: Call model with function defined\n",
    "\n",
    "client = OpenAI(api_key=openai_key)\n",
    "\n",
    "weather_input_message = [{\n",
    "    \"role\":\"user\",\n",
    "    \"content\": \"What is the weather going to be in Cumberland, MD?\"\n",
    "}]\n",
    "\n",
    "weather_response = client.responses.create(\n",
    "    model=\"gpt-4.1-nano\",\n",
    "    input=input_message,\n",
    "    tools=weather_tool\n",
    ")"
   ]
  },
  {
   "cell_type": "code",
   "execution_count": null,
   "metadata": {},
   "outputs": [],
   "source": [
    "# 2: Model decides to call function - use response.output\n",
    "### Model returns the name and input arguments\n",
    "response.output"
   ]
  },
  {
   "cell_type": "code",
   "execution_count": null,
   "metadata": {},
   "outputs": [],
   "source": [
    "# 3: Use the model returns and use them as inputs for the function\n",
    "\n",
    "# response output includes these parts of tool: arguments, call_id, name, type, id, status\n",
    "tool_call = response.output[0]\n",
    "# get arguments feature of tool call\n",
    "args = json.loads(tool_call.arguments)\n",
    "# get_weather will print the lat and long\n",
    "result = weather.get_weather(**args)\n",
    "results_dict = result.json()['data']\n",
    "# check correct amount of intervals printed\n",
    "len(results_dict['timelines'][0]['intervals'])"
   ]
  },
  {
   "cell_type": "code",
   "execution_count": null,
   "metadata": {},
   "outputs": [],
   "source": [
    "import requests\n",
    "latitude = 39.6528\n",
    "longitude = -78.7628\n",
    "response = requests.get(f\"https://api.open-meteo.com/v1/forecast?latitude={latitude}&longitude={longitude}&current=temperature_2m,wind_speed_10m&hourly=temperature_2m,relative_humidity_2m,wind_speed_10m\")\n",
    "data = response.json()\n",
    "data['current']['temperature_2m']"
   ]
  },
  {
   "cell_type": "markdown",
   "metadata": {},
   "source": [
    "### *Agent #2: Get Upcoming calendar events*"
   ]
  },
  {
   "cell_type": "code",
   "execution_count": null,
   "metadata": {},
   "outputs": [],
   "source": [
    "calendar_get_events = [\n",
    "    # weather tool\n",
    "    {\n",
    "        \"type\": \"function\",\n",
    "        \"name\": \"get_upcoming_event\",\n",
    "        \"description\":\"Get the days and times of when the user will be busy in the upcoming days. The furthest you can look ahead is 5 days.\",\n",
    "        \"parameters\":{\n",
    "            # param names + types\n",
    "            \"type\": \"object\",\n",
    "            \"properties\": {\n",
    "                \"cal_id\": {\"type\":\"string\",\n",
    "                           \"description\":\"ID of the calendar to use. Do not fill in if the user does not provide it, there is a default value in function.\"},\n",
    "                \"in_future\":{\"type\":\"number\",\n",
    "                             \"description\":\"Number of days to look ahead. Do not fill in if the user does not provide it, there is a default value in function.\"}\n",
    "            },\n",
    "            # all params in required when strict = True\n",
    "            # \"required\": [\"cal_id\", \"in_future\"],\n",
    "            \"additionalProperties\": False\n",
    "        },\n",
    "    # setting to False\n",
    "    # so blank string doen't override defaults\n",
    "    \"strict\" : False\n",
    "}]"
   ]
  },
  {
   "cell_type": "code",
   "execution_count": null,
   "metadata": {},
   "outputs": [],
   "source": [
    "input_message = [{\n",
    "    \"role\":\"user\",\n",
    "    \"content\": \"What days and times am I busy for the next 3 days?\"\n",
    "}]\n",
    "\n",
    "response = client.responses.create(\n",
    "    model=\"gpt-4.1-nano\",\n",
    "    input=input_message,\n",
    "    tools=calendar_get_events\n",
    ")"
   ]
  },
  {
   "cell_type": "code",
   "execution_count": null,
   "metadata": {},
   "outputs": [],
   "source": [
    "# 2: Model decides to call function - use response.output\n",
    "### Model returns the name and input arguments\n",
    "response.output"
   ]
  },
  {
   "cell_type": "code",
   "execution_count": null,
   "metadata": {},
   "outputs": [],
   "source": [
    "# 3: Use the model returns and use them as inputs for the function\n",
    "\n",
    "# response output includes these parts of tool: arguments, call_id, name, type, id, status\n",
    "tool_call = response.output[0]\n",
    "# get arguments feature of tool call\n",
    "args = json.loads(tool_call.arguments)\n",
    "# # get_weather will print the lat and long\n",
    "result = calendars.get_upcoming_events(**args)\n",
    "# # check correct amount of intervals printed\n",
    "len(results_dict['timelines'][0]['intervals'])"
   ]
  },
  {
   "cell_type": "markdown",
   "metadata": {},
   "source": [
    "### *Agent #3: Review the weather and evaluate when it would be best to run outside*"
   ]
  },
  {
   "cell_type": "code",
   "execution_count": null,
   "metadata": {},
   "outputs": [],
   "source": [
    "input_message = [{\n",
    "    \"role\":\"user\",\n",
    "    \"content\": f\"\"\"The following information contains the weather for location with the coordinates of {args['lat']}, {args['long']}. \n",
    "    Here is the weather for each hour for the next five days: {results_dict['timelines'][0]['intervals']}. \n",
    "    What would be the best day and time to go for a 30 minute run?\n",
    "    Do not give me an overview or analysis of the data. Just tell me the day(s) and time(s) the location time zone\"\"\",\n",
    "}]\n",
    "\n",
    "response = client.responses.create(\n",
    "    model=\"gpt-4.1-nano\",\n",
    "    input=input_message\n",
    ")\n",
    "\n",
    "print(response.output_text)"
   ]
  }
 ],
 "metadata": {
  "kernelspec": {
   "display_name": ".venv",
   "language": "python",
   "name": "python3"
  },
  "language_info": {
   "codemirror_mode": {
    "name": "ipython",
    "version": 3
   },
   "file_extension": ".py",
   "mimetype": "text/x-python",
   "name": "python",
   "nbconvert_exporter": "python",
   "pygments_lexer": "ipython3",
   "version": "3.9.6"
  }
 },
 "nbformat": 4,
 "nbformat_minor": 2
}
