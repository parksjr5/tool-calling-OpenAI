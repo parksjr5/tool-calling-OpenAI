{
 "cells": [
  {
   "cell_type": "markdown",
   "metadata": {},
   "source": [
    "Helpful to know exists - Request body:   \n",
    "https://platform.openai.com/docs/api-reference/responses/create\n",
    "- parallel tool calling: allow calling tools in parallel or not\n",
    "- previous_response_id: allows for multi-turn\n",
    "  - instructions: will not be carried over to next call if multi-turn activated\n",
    "- include: can include files returned in search after tool call\n",
    "- tool_choice: how the model should select which tool to choose when generating a response\n",
    "- tools: the actual tools to call (web search, file search)\n",
    "\n",
    "- gpt 4.1 nano is most cost effective for now"
   ]
  },
  {
   "cell_type": "markdown",
   "metadata": {},
   "source": [
    "#### Import Credentials"
   ]
  },
  {
   "cell_type": "code",
   "execution_count": null,
   "metadata": {},
   "outputs": [],
   "source": [
    "# !pip install openai"
   ]
  },
  {
   "cell_type": "code",
   "execution_count": 2,
   "metadata": {},
   "outputs": [],
   "source": [
    "from creds import credentials\n",
    "\n",
    "openai_key = credentials['tool-calling-OpenAI']"
   ]
  },
  {
   "cell_type": "code",
   "execution_count": 3,
   "metadata": {},
   "outputs": [
    {
     "name": "stdout",
     "output_type": "stream",
     "text": [
      "Once upon a time, in a shimmering forest, a gentle unicorn with a rainbow mane gently brushed its glowing horn and drifted into peaceful dreams under the twinkling stars.\n"
     ]
    }
   ],
   "source": [
    "from openai import OpenAI\n",
    "import os\n",
    "\n",
    "client = OpenAI(api_key=openai_key)\n",
    "\n",
    "response = client.responses.create(\n",
    "    model=\"gpt-4.1-nano\",\n",
    "    input=\"Write a one-sentence bedtime story about a unicorn.\"\n",
    ")\n",
    "\n",
    "print(response.output_text)\n"
   ]
  },
  {
   "cell_type": "code",
   "execution_count": null,
   "metadata": {},
   "outputs": [],
   "source": []
  }
 ],
 "metadata": {
  "kernelspec": {
   "display_name": ".venv",
   "language": "python",
   "name": "python3"
  },
  "language_info": {
   "codemirror_mode": {
    "name": "ipython",
    "version": 3
   },
   "file_extension": ".py",
   "mimetype": "text/x-python",
   "name": "python",
   "nbconvert_exporter": "python",
   "pygments_lexer": "ipython3",
   "version": "3.9.6"
  }
 },
 "nbformat": 4,
 "nbformat_minor": 2
}
