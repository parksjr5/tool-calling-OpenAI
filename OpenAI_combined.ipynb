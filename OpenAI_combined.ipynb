{
 "cells": [
  {
   "cell_type": "markdown",
   "metadata": {},
   "source": [
    "Helpful to know exists - Request body:   \n",
    "https://platform.openai.com/docs/api-reference/responses/create\n",
    "- parallel tool calling: allow calling tools in parallel or not\n",
    "- previous_response_id: allows for multi-turn\n",
    "  - instructions: will not be carried over to next call if multi-turn activated\n",
    "- include: can include files returned in search after tool call\n",
    "- tool_choice: how the model should select which tool to choose when generating a response\n",
    "- tools: the actual tools to call (web search, file search)\n",
    "\n",
    "- gpt 4.1 nano is most cost effective for now"
   ]
  },
  {
   "cell_type": "markdown",
   "metadata": {},
   "source": [
    "#### \n",
    "\n",
    "Goal: Review upcoming weather to determine when would be the best time period for someone to run.   \n",
    "- Agent 1: Extract longitude and latitude coordinates from city in prompt, return weather \n",
    "- Agent 2: Evaluate when is best time period to run"
   ]
  },
  {
   "cell_type": "markdown",
   "metadata": {},
   "source": [
    "### Import Credentials"
   ]
  },
  {
   "cell_type": "code",
   "execution_count": null,
   "metadata": {},
   "outputs": [],
   "source": [
    "# !pip install openai\n",
    "# !pip install requests"
   ]
  },
  {
   "cell_type": "code",
   "execution_count": 28,
   "metadata": {},
   "outputs": [
    {
     "ename": "KeyError",
     "evalue": "'cronofy_access_token'",
     "output_type": "error",
     "traceback": [
      "\u001b[0;31m---------------------------------------------------------------------------\u001b[0m",
      "\u001b[0;31mKeyError\u001b[0m                                  Traceback (most recent call last)",
      "Cell \u001b[0;32mIn[28], line 2\u001b[0m\n\u001b[1;32m      1\u001b[0m \u001b[38;5;28;01mfrom\u001b[39;00m\u001b[38;5;250m \u001b[39m\u001b[38;5;21;01mcreds\u001b[39;00m\u001b[38;5;250m \u001b[39m\u001b[38;5;28;01mimport\u001b[39;00m credentials\n\u001b[0;32m----> 2\u001b[0m \u001b[38;5;28;01mimport\u001b[39;00m\u001b[38;5;250m \u001b[39m\u001b[38;5;21;01mcalendars\u001b[39;00m\n\u001b[1;32m      3\u001b[0m \u001b[38;5;28;01mimport\u001b[39;00m\u001b[38;5;250m \u001b[39m\u001b[38;5;21;01mweather\u001b[39;00m\n\u001b[1;32m      4\u001b[0m \u001b[38;5;28;01mimport\u001b[39;00m\u001b[38;5;250m \u001b[39m\u001b[38;5;21;01mjson\u001b[39;00m\n",
      "File \u001b[0;32m~/Repositories/tool-calling-OpenAI/calendars.py:8\u001b[0m\n\u001b[1;32m      5\u001b[0m \u001b[38;5;28;01mimport\u001b[39;00m\u001b[38;5;250m \u001b[39m\u001b[38;5;21;01mdatetime\u001b[39;00m\n\u001b[1;32m      7\u001b[0m \u001b[38;5;66;03m### Authorization ###\u001b[39;00m\n\u001b[0;32m----> 8\u001b[0m token \u001b[38;5;241m=\u001b[39m \u001b[43mcreds\u001b[49m\u001b[38;5;241;43m.\u001b[39;49m\u001b[43mcredentials\u001b[49m\u001b[43m[\u001b[49m\u001b[38;5;124;43m'\u001b[39;49m\u001b[38;5;124;43mcronofy_access_token\u001b[39;49m\u001b[38;5;124;43m'\u001b[39;49m\u001b[43m]\u001b[49m\n\u001b[1;32m      9\u001b[0m cronofy \u001b[38;5;241m=\u001b[39m pycronofy\u001b[38;5;241m.\u001b[39mClient(access_token\u001b[38;5;241m=\u001b[39mtoken)\n\u001b[1;32m     11\u001b[0m \u001b[38;5;66;03m### Get Dates ###\u001b[39;00m\n",
      "\u001b[0;31mKeyError\u001b[0m: 'cronofy_access_token'"
     ]
    }
   ],
   "source": [
    "from creds import credentials\n",
    "import calendars\n",
    "import weather\n",
    "import json\n",
    "from openai import OpenAI\n",
    "import os"
   ]
  },
  {
   "cell_type": "code",
   "execution_count": 7,
   "metadata": {},
   "outputs": [],
   "source": [
    "# get keys\n",
    "openai_key = credentials['tool-calling-OpenAI']\n",
    "weather_api = credentials['weather_api']"
   ]
  },
  {
   "cell_type": "markdown",
   "metadata": {},
   "source": [
    "## Make tool\n",
    "Must define function to use + how to use it\n",
    "\n",
    "**Notes**  \n",
    "When strict = True:\n",
    "- all properties/params must be inputted in required list\n",
    "- additionalProperties is False (what does this mean??)"
   ]
  },
  {
   "cell_type": "markdown",
   "metadata": {},
   "source": [
    "## *Agent #1: Extract location and get weather from prompt*\n",
    "- Goal: Get next 5 days of weather\n",
    "- Practice: Setting up API call"
   ]
  },
  {
   "cell_type": "code",
   "execution_count": 10,
   "metadata": {},
   "outputs": [],
   "source": [
    "weather_tool = [\n",
    "    # weather tool\n",
    "    {\n",
    "        \"type\": \"function\",\n",
    "        \"name\": \"get_weather\",\n",
    "        \"description\":\"get temperature, humidity, precipitation, wind speed for specified location for the next 5 days.\",\n",
    "        \"parameters\":{\n",
    "            # param names + types\n",
    "            \"type\": \"object\",\n",
    "            \"properties\": {\n",
    "                \"lat\": {\"type\":\"number\"},\n",
    "                \"long\":{\"type\":\"number\"}\n",
    "            },\n",
    "            # all params in required b/c strict = True\n",
    "            \"required\": [\"lat\", \"long\"],\n",
    "            \"additionalProperties\": False\n",
    "        },\n",
    "    # recommended to always use true\n",
    "    # does not allow model to skip parameteres\n",
    "    \"strict\" : True\n",
    "}]"
   ]
  },
  {
   "cell_type": "code",
   "execution_count": 11,
   "metadata": {},
   "outputs": [
    {
     "name": "stdout",
     "output_type": "stream",
     "text": [
      "\n"
     ]
    }
   ],
   "source": [
    "client = OpenAI(api_key=openai_key)\n",
    "\n",
    "input_message = [{\n",
    "    \"role\":\"user\",\n",
    "    \"content\": \"What is the weather going to be in Cumberland, MD?\"\n",
    "}]\n",
    "\n",
    "response = client.responses.create(\n",
    "    model=\"gpt-4.1-nano\",\n",
    "    input=input_message,\n",
    "    tools=weather_tool\n",
    ")\n",
    "\n",
    "print(response.output_text)"
   ]
  },
  {
   "cell_type": "code",
   "execution_count": 12,
   "metadata": {},
   "outputs": [
    {
     "name": "stdout",
     "output_type": "stream",
     "text": [
      "Lat: 39.6529, Long: -78.7625\n"
     ]
    }
   ],
   "source": [
    "# response output includes these parts of tool: arguments, call_id, name, type, id, status\n",
    "\n",
    "tool_call = response.output[0]\n",
    "# get arguments feature of tool call\n",
    "args = json.loads(tool_call.arguments)\n",
    "\n",
    "# get_weather will print the lat and long\n",
    "result = weather.get_weather(args[\"lat\"], args[\"long\"])"
   ]
  },
  {
   "cell_type": "code",
   "execution_count": 14,
   "metadata": {},
   "outputs": [
    {
     "data": {
      "text/plain": [
       "121"
      ]
     },
     "execution_count": 14,
     "metadata": {},
     "output_type": "execute_result"
    }
   ],
   "source": [
    "results_dict = result.json()['data']\n",
    "# check correct amount of intervals printed\n",
    "len(results_dict['timelines'][0]['intervals'])"
   ]
  },
  {
   "cell_type": "markdown",
   "metadata": {},
   "source": [
    "### *Agent #2: Get Upcoming calendar events*"
   ]
  },
  {
   "cell_type": "code",
   "execution_count": null,
   "metadata": {},
   "outputs": [],
   "source": [
    "calendar_get_events = [\n",
    "    # weather tool\n",
    "    {\n",
    "        \"type\": \"function\",\n",
    "        \"name\": \"get_upcoming_event\",\n",
    "        \"description\":\"Get the days and times of when the user will be busy in the upcoming days. The furthest you can look ahead is 5 days.\",\n",
    "        \"parameters\":{\n",
    "            # param names + types\n",
    "            \"type\": \"object\",\n",
    "            \"properties\": {\n",
    "                \"cal_id\": {\"type\":\"string\",\n",
    "                           \"description\":\"ID of the calendar to use. Do not fill in if the user does not provide it, there is a default value in function.\"},\n",
    "                \"in_future\":{\"type\":\"number\",\n",
    "                             \"description\":\"Number of days to look ahead. Do not fill in if the user does not provide it, there is a default value in function.\"}\n",
    "            },\n",
    "            # all params in required b/c strict = True\n",
    "            \"required\": [\"cal_id\", \"in_future\"],\n",
    "            \"additionalProperties\": False\n",
    "        },\n",
    "    # recommended to always use true\n",
    "    # does not allow model to skip parameteres\n",
    "    \"strict\" : True\n",
    "}]"
   ]
  },
  {
   "cell_type": "code",
   "execution_count": 20,
   "metadata": {},
   "outputs": [
    {
     "name": "stdout",
     "output_type": "stream",
     "text": [
      "\n"
     ]
    }
   ],
   "source": [
    "input_message = [{\n",
    "    \"role\":\"user\",\n",
    "    \"content\": \"What days and times am I busy for the next 3 days?\"\n",
    "}]\n",
    "\n",
    "response = client.responses.create(\n",
    "    model=\"gpt-4.1-nano\",\n",
    "    input=input_message,\n",
    "    tools=calendar_get_events\n",
    ")\n",
    "\n",
    "print(response.output_text)"
   ]
  },
  {
   "cell_type": "markdown",
   "metadata": {},
   "source": [
    "### *Agent #3: Review the weather and evaluate when it would be best to run outside*"
   ]
  },
  {
   "cell_type": "code",
   "execution_count": null,
   "metadata": {},
   "outputs": [],
   "source": [
    "input_message = [{\n",
    "    \"role\":\"user\",\n",
    "    \"content\": f\"\"\"The following information contains the weather for location with the coordinates of {args['lat']}, {args['long']}. \n",
    "    Here is the weather for each hour for the next five days: {results_dict['timelines'][0]['intervals']}. \n",
    "    What would be the best day and time to go for a 30 minute run?\n",
    "    Do not give me an overview or analysis of the data. Just tell me the day(s) and time(s) the location time zone\"\"\",\n",
    "}]\n",
    "\n",
    "response = client.responses.create(\n",
    "    model=\"gpt-4.1-nano\",\n",
    "    input=input_message\n",
    ")\n",
    "\n",
    "print(response.output_text)"
   ]
  }
 ],
 "metadata": {
  "kernelspec": {
   "display_name": ".venv",
   "language": "python",
   "name": "python3"
  },
  "language_info": {
   "codemirror_mode": {
    "name": "ipython",
    "version": 3
   },
   "file_extension": ".py",
   "mimetype": "text/x-python",
   "name": "python",
   "nbconvert_exporter": "python",
   "pygments_lexer": "ipython3",
   "version": "3.9.6"
  }
 },
 "nbformat": 4,
 "nbformat_minor": 2
}
