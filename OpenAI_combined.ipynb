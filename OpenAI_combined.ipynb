{
 "cells": [
  {
   "cell_type": "markdown",
   "metadata": {},
   "source": [
    "#### \n",
    "\n",
    "Goal: Review upcoming weather to determine when would be the best time period for someone to run.   \n",
    "- Agent 1: Extract longitude and latitude coordinates from city in prompt, return weather \n",
    "- Agent 2: Evaluate when is best time period to run"
   ]
  },
  {
   "cell_type": "markdown",
   "metadata": {},
   "source": [
    "### Import Credentials"
   ]
  },
  {
   "cell_type": "code",
   "execution_count": null,
   "metadata": {},
   "outputs": [],
   "source": [
    "# !pip install openai\n",
    "# !pip install requests"
   ]
  },
  {
   "cell_type": "code",
   "execution_count": 1,
   "metadata": {},
   "outputs": [
    {
     "name": "stderr",
     "output_type": "stream",
     "text": [
      "/Users/jparks/Repositories/tool-calling-OpenAI/.venv/lib/python3.9/site-packages/urllib3/__init__.py:35: NotOpenSSLWarning: urllib3 v2 only supports OpenSSL 1.1.1+, currently the 'ssl' module is compiled with 'LibreSSL 2.8.3'. See: https://github.com/urllib3/urllib3/issues/3020\n",
      "  warnings.warn(\n"
     ]
    }
   ],
   "source": [
    "from creds import credentials\n",
    "import calendars\n",
    "import weather\n",
    "import json\n",
    "from openai import OpenAI\n",
    "import os"
   ]
  },
  {
   "cell_type": "code",
   "execution_count": 2,
   "metadata": {},
   "outputs": [],
   "source": [
    "# get keys\n",
    "openai_key = credentials['tool-calling-OpenAI']\n",
    "weather_api = credentials['weather_api']"
   ]
  },
  {
   "cell_type": "markdown",
   "metadata": {},
   "source": [
    "## *Agent #1: Extract location and get weather*"
   ]
  },
  {
   "cell_type": "code",
   "execution_count": 3,
   "metadata": {},
   "outputs": [],
   "source": [
    "# 1A: Define function\n",
    "\n",
    "weather_tool = [{\n",
    "    # weather tool\n",
    "        \"type\": \"function\",\n",
    "        \"name\": \"get_weather\",\n",
    "        \"description\":\"get temperature, humidity, precipitation, wind speed for specified location for the next 5 days.\",\n",
    "        \"parameters\":{\n",
    "            # param names + types\n",
    "            \"type\": \"object\",\n",
    "            \"properties\": {\n",
    "                \"lat\": {\"type\":\"number\"},\n",
    "                \"long\":{\"type\":\"number\"}\n",
    "            },\n",
    "            # all params in required b/c strict = True\n",
    "            \"required\": [\"lat\", \"long\"],\n",
    "            \"additionalProperties\": False\n",
    "        },\n",
    "    # recommended to always use true\n",
    "    # does not allow model to skip parameteres\n",
    "    \"strict\" : True\n",
    "}]"
   ]
  },
  {
   "cell_type": "markdown",
   "metadata": {},
   "source": [
    "### *Agent #2: Get Upcoming calendar events*"
   ]
  },
  {
   "cell_type": "code",
   "execution_count": 4,
   "metadata": {},
   "outputs": [],
   "source": [
    "calendar_get_events = [{\n",
    "    # weather tool\n",
    "        \"type\": \"function\",\n",
    "        \"name\": \"get_upcoming_event\",\n",
    "        \"description\":\"Get the days and times from teh user calendar of when they will be busy in the upcoming days. The furthest you can look ahead is 5 days.\",\n",
    "        \"parameters\":{\n",
    "            # param names + types\n",
    "            \"type\": \"object\",\n",
    "            \"properties\": {\n",
    "                \"cal_id\": {\"type\":\"string\",\n",
    "                           \"description\":\"\"\"ID of the calendar to use. It is a random combination of letters and numbers. \n",
    "                           Do not use this parameter if they do not give an ID.\"\"\"},\n",
    "                \"in_future\":{\"type\":\"number\",\n",
    "                             \"description\":\"Number of days to look ahead. Do not fill in if the user does not provide it, there is a default value in function.\"}\n",
    "            },\n",
    "            # all params in required when strict = True\n",
    "            # \"required\": [\"cal_id\", \"in_future\"],\n",
    "            \"additionalProperties\": False\n",
    "        },\n",
    "    # setting to False\n",
    "    # so blank string doen't override defaults\n",
    "    \"strict\" : False\n",
    "}]"
   ]
  },
  {
   "cell_type": "markdown",
   "metadata": {},
   "source": [
    "### *Agent #3: Review the weather and evaluate when it would be best to run outside*"
   ]
  },
  {
   "cell_type": "code",
   "execution_count": 15,
   "metadata": {},
   "outputs": [],
   "source": [
    "input_message = [{\n",
    "    \"role\":\"user\",\n",
    "    \"content\": \"\"\"I live in Anchorage, Alaska. \"\n",
    "    \"What is the best day and time to go for a 30 minute run based on the weather and my work schedule for the next 3 days? \"\n",
    "    \"Please schedule it between meetings.\"\"\",\n",
    "}]"
   ]
  },
  {
   "cell_type": "code",
   "execution_count": 16,
   "metadata": {},
   "outputs": [],
   "source": [
    "client = OpenAI(api_key=openai_key)\n",
    "\n",
    "response = client.responses.create(\n",
    "    model=\"gpt-4.1-nano\",\n",
    "    input=input_message,\n",
    "    tools=(calendar_get_events + weather_tool)\n",
    ")"
   ]
  },
  {
   "cell_type": "code",
   "execution_count": 17,
   "metadata": {},
   "outputs": [
    {
     "data": {
      "text/plain": [
       "[ResponseFunctionToolCall(arguments='{\"cal_id\":\"your_calendar_id_here\",\"in_future\":3}', call_id='call_Ui37ZHVYztV5IoqUxM020GBV', name='get_upcoming_event', type='function_call', id='fc_680911c2c9b481928fe1db342ae2f4a70a64fd8ba54a267c', status='completed'),\n",
       " ResponseFunctionToolCall(arguments='{\"lat\":61.2181,\"long\":-149.9003}', call_id='call_Vft3zV4pKTQ4DEagwnLcZowj', name='get_weather', type='function_call', id='fc_680911c2d6c08192a8199af65d9d10d40a64fd8ba54a267c', status='completed')]"
      ]
     },
     "execution_count": 17,
     "metadata": {},
     "output_type": "execute_result"
    }
   ],
   "source": [
    "response.output"
   ]
  },
  {
   "cell_type": "code",
   "execution_count": 18,
   "metadata": {},
   "outputs": [],
   "source": [
    "def call_function(name, args):\n",
    "    if name == \"get_weather\":\n",
    "        return weather.get_weather(**args)\n",
    "    if name == \"get_upcoming_event\":\n",
    "        return calendars.get_upcoming_events(**args)"
   ]
  },
  {
   "cell_type": "code",
   "execution_count": 19,
   "metadata": {},
   "outputs": [
    {
     "name": "stdout",
     "output_type": "stream",
     "text": [
      "your_calendar_id_here\n",
      "Lat: 61.2181, Long: -149.9003\n"
     ]
    }
   ],
   "source": [
    "for tool_call in response.output:\n",
    "    if tool_call.type != \"function_call\":\n",
    "        continue\n",
    "    \n",
    "    # get function name\n",
    "    name = tool_call.name\n",
    "    args = json.loads(tool_call.arguments)\n",
    "    \n",
    "    # drop filling string statement of cal_id\n",
    "    if tool_call.name == 'get_upcoming_event':\n",
    "        print(args['cal_id'])\n",
    "        id_has_num = any(char.isdigit() for char in args['cal_id'])\n",
    "        if not id_has_num: args.pop('cal_id', None)\n",
    "\n",
    "    # call function + get output\n",
    "    result = call_function(name, args)\n",
    "    input_message.append(tool_call)\n",
    "    input_message.append({\n",
    "        \"type\": \"function_call_output\",\n",
    "        \"call_id\": tool_call.call_id,\n",
    "        \"output\": str(result)\n",
    "    })"
   ]
  },
  {
   "cell_type": "code",
   "execution_count": 20,
   "metadata": {},
   "outputs": [
    {
     "data": {
      "text/plain": [
       "[{'role': 'user',\n",
       "  'content': 'I live in Anchorage, Alaska. \"\\n    \"What is the best day and time to go for a 30 minute run based on the weather and my work schedule for the next 3 days? \"\\n    \"Please schedule it between meetings.'},\n",
       " ResponseFunctionToolCall(arguments='{\"cal_id\":\"your_calendar_id_here\",\"in_future\":3}', call_id='call_Ui37ZHVYztV5IoqUxM020GBV', name='get_upcoming_event', type='function_call', id='fc_680911c2c9b481928fe1db342ae2f4a70a64fd8ba54a267c', status='completed'),\n",
       " {'type': 'function_call_output',\n",
       "  'call_id': 'call_Ui37ZHVYztV5IoqUxM020GBV',\n",
       "  'output': \"[{'start': '2025-04-23T15:00:00Z', 'end': '2025-04-23T16:00:00Z', 'free_busy_status': 'busy'}, {'start': '2025-04-23T17:30:00Z', 'end': '2025-04-23T18:00:00Z', 'free_busy_status': 'busy'}, {'start': '2025-04-23T18:00:00Z', 'end': '2025-04-23T19:00:00Z', 'free_busy_status': 'busy'}, {'start': '2025-04-23T21:00:00Z', 'end': '2025-04-23T23:30:00Z', 'free_busy_status': 'busy'}, {'start': '2025-04-24T15:00:00Z', 'end': '2025-04-24T16:00:00Z', 'free_busy_status': 'busy'}, {'start': '2025-04-24T16:30:00Z', 'end': '2025-04-24T17:00:00Z', 'free_busy_status': 'busy'}, {'start': '2025-04-24T17:00:00Z', 'end': '2025-04-24T18:00:00Z', 'free_busy_status': 'busy'}, {'start': '2025-04-24T18:30:00Z', 'end': '2025-04-24T19:00:00Z', 'free_busy_status': 'busy'}, {'start': '2025-04-24T19:30:00Z', 'end': '2025-04-24T20:00:00Z', 'free_busy_status': 'busy'}]\"},\n",
       " ResponseFunctionToolCall(arguments='{\"lat\":61.2181,\"long\":-149.9003}', call_id='call_Vft3zV4pKTQ4DEagwnLcZowj', name='get_weather', type='function_call', id='fc_680911c2d6c08192a8199af65d9d10d40a64fd8ba54a267c', status='completed'),\n",
       " {'type': 'function_call_output',\n",
       "  'call_id': 'call_Vft3zV4pKTQ4DEagwnLcZowj',\n",
       "  'output': \"[{'timestep': '1h', 'endTime': '2025-04-28T16:00:00Z', 'startTime': '2025-04-23T16:00:00Z', 'intervals': [{'startTime': '2025-04-23T16:00:00Z', 'values': {'humidityAvg': '92', 'precipitationProbability': '0', 'temperature': '34.7', 'windSpeed': '3.8'}}, {'startTime': '2025-04-23T17:00:00Z', 'values': {'humidityAvg': '90', 'precipitationProbability': '0', 'temperature': '36.7', 'windSpeed': '3.8'}}, {'startTime': '2025-04-23T18:00:00Z', 'values': {'humidityAvg': '84', 'precipitationProbability': '0', 'temperature': '38.4', 'windSpeed': '4.8'}}, {'startTime': '2025-04-23T19:00:00Z', 'values': {'humidityAvg': '79', 'precipitationProbability': '0', 'temperature': '40.2', 'windSpeed': '5.3'}}, {'startTime': '2025-04-23T20:00:00Z', 'values': {'humidityAvg': '72', 'precipitationProbability': '0', 'temperature': '42.5', 'windSpeed': '5.5'}}, {'startTime': '2025-04-23T21:00:00Z', 'values': {'humidityAvg': '65', 'precipitationProbability': '0', 'temperature': '44.2', 'windSpeed': '6.3'}}, {'startTime': '2025-04-23T22:00:00Z', 'values': {'humidityAvg': '59', 'precipitationProbability': '0', 'temperature': '45.7', 'windSpeed': '6.9'}}, {'startTime': '2025-04-23T23:00:00Z', 'values': {'humidityAvg': '55', 'precipitationProbability': '0', 'temperature': '46.5', 'windSpeed': '3.7'}}, {'startTime': '2025-04-24T00:00:00Z', 'values': {'humidityAvg': '55', 'precipitationProbability': '0', 'temperature': '46.4', 'windSpeed': '0.5'}}, {'startTime': '2025-04-24T01:00:00Z', 'values': {'humidityAvg': '59', 'precipitationProbability': '0', 'temperature': '45.8', 'windSpeed': '2.3'}}, {'startTime': '2025-04-24T02:00:00Z', 'values': {'humidityAvg': '59', 'precipitationProbability': '0', 'temperature': '45.7', 'windSpeed': '2.1'}}, {'startTime': '2025-04-24T03:00:00Z', 'values': {'humidityAvg': '62', 'precipitationProbability': '0', 'temperature': '45.5', 'windSpeed': '2.6'}}, {'startTime': '2025-04-24T04:00:00Z', 'values': {'humidityAvg': '69', 'precipitationProbability': '0', 'temperature': '44.6', 'windSpeed': '1.9'}}, {'startTime': '2025-04-24T05:00:00Z', 'values': {'humidityAvg': '75', 'precipitationProbability': '0', 'temperature': '42.7', 'windSpeed': '3.3'}}, {'startTime': '2025-04-24T06:00:00Z', 'values': {'humidityAvg': '74', 'precipitationProbability': '5', 'temperature': '41.9', 'windSpeed': '5.3'}}, {'startTime': '2025-04-24T07:00:00Z', 'values': {'humidityAvg': '78', 'precipitationProbability': '5', 'temperature': '41', 'windSpeed': '5.6'}}, {'startTime': '2025-04-24T08:00:00Z', 'values': {'humidityAvg': '80', 'precipitationProbability': '0', 'temperature': '40', 'windSpeed': '3.8'}}, {'startTime': '2025-04-24T09:00:00Z', 'values': {'humidityAvg': '83', 'precipitationProbability': '0', 'temperature': '37.5', 'windSpeed': '3.4'}}, {'startTime': '2025-04-24T10:00:00Z', 'values': {'humidityAvg': '84', 'precipitationProbability': '0', 'temperature': '36.4', 'windSpeed': '3.6'}}, {'startTime': '2025-04-24T11:00:00Z', 'values': {'humidityAvg': '84', 'precipitationProbability': '0', 'temperature': '35', 'windSpeed': '3.5'}}, {'startTime': '2025-04-24T12:00:00Z', 'values': {'humidityAvg': '89', 'precipitationProbability': '0', 'temperature': '33.4', 'windSpeed': '2.7'}}, {'startTime': '2025-04-24T13:00:00Z', 'values': {'humidityAvg': '92', 'precipitationProbability': '0', 'temperature': '32.8', 'windSpeed': '2.1'}}, {'startTime': '2025-04-24T14:00:00Z', 'values': {'humidityAvg': '93', 'precipitationProbability': '0', 'temperature': '32.5', 'windSpeed': '1.6'}}, {'startTime': '2025-04-24T15:00:00Z', 'values': {'humidityAvg': '92', 'precipitationProbability': '0', 'temperature': '33.1', 'windSpeed': '1'}}, {'startTime': '2025-04-24T16:00:00Z', 'values': {'humidityAvg': '88', 'precipitationProbability': '0', 'temperature': '35.6', 'windSpeed': '1.1'}}, {'startTime': '2025-04-24T17:00:00Z', 'values': {'humidityAvg': '79', 'precipitationProbability': '0', 'temperature': '39.9', 'windSpeed': '0.7'}}, {'startTime': '2025-04-24T18:00:00Z', 'values': {'humidityAvg': '75', 'precipitationProbability': '0', 'temperature': '41.4', 'windSpeed': '1.7'}}, {'startTime': '2025-04-24T19:00:00Z', 'values': {'humidityAvg': '75', 'precipitationProbability': '0', 'temperature': '41.8', 'windSpeed': '3.4'}}, {'startTime': '2025-04-24T20:00:00Z', 'values': {'humidityAvg': '70', 'precipitationProbability': '0', 'temperature': '43.3', 'windSpeed': '3.7'}}, {'startTime': '2025-04-24T21:00:00Z', 'values': {'humidityAvg': '66', 'precipitationProbability': '0', 'temperature': '44.5', 'windSpeed': '3.4'}}, {'startTime': '2025-04-24T22:00:00Z', 'values': {'humidityAvg': '64', 'precipitationProbability': '0', 'temperature': '45', 'windSpeed': '3.5'}}, {'startTime': '2025-04-24T23:00:00Z', 'values': {'humidityAvg': '64', 'precipitationProbability': '5', 'temperature': '45.2', 'windSpeed': '4'}}, {'startTime': '2025-04-25T00:00:00Z', 'values': {'humidityAvg': '63', 'precipitationProbability': '5', 'temperature': '45.5', 'windSpeed': '4.4'}}, {'startTime': '2025-04-25T01:00:00Z', 'values': {'humidityAvg': '64', 'precipitationProbability': '0', 'temperature': '45.2', 'windSpeed': '5.3'}}, {'startTime': '2025-04-25T02:00:00Z', 'values': {'humidityAvg': '67', 'precipitationProbability': '0', 'temperature': '44.5', 'windSpeed': '5.2'}}, {'startTime': '2025-04-25T03:00:00Z', 'values': {'humidityAvg': '68', 'precipitationProbability': '0', 'temperature': '44', 'windSpeed': '3.9'}}, {'startTime': '2025-04-25T04:00:00Z', 'values': {'humidityAvg': '73', 'precipitationProbability': '0', 'temperature': '42.6', 'windSpeed': '2.9'}}, {'startTime': '2025-04-25T05:00:00Z', 'values': {'humidityAvg': '78', 'precipitationProbability': '0', 'temperature': '41.2', 'windSpeed': '2.8'}}, {'startTime': '2025-04-25T06:00:00Z', 'values': {'humidityAvg': '82', 'precipitationProbability': '0', 'temperature': '39.9', 'windSpeed': '4.4'}}, {'startTime': '2025-04-25T07:00:00Z', 'values': {'humidityAvg': '83', 'precipitationProbability': '0', 'temperature': '39.5', 'windSpeed': '5'}}, {'startTime': '2025-04-25T08:00:00Z', 'values': {'humidityAvg': '83', 'precipitationProbability': '0', 'temperature': '38.6', 'windSpeed': '4.7'}}, {'startTime': '2025-04-25T09:00:00Z', 'values': {'humidityAvg': '83', 'precipitationProbability': '0', 'temperature': '37.7', 'windSpeed': '4.4'}}, {'startTime': '2025-04-25T10:00:00Z', 'values': {'humidityAvg': '85', 'precipitationProbability': '0', 'temperature': '37', 'windSpeed': '3.9'}}, {'startTime': '2025-04-25T11:00:00Z', 'values': {'humidityAvg': '88', 'precipitationProbability': '0', 'temperature': '35.7', 'windSpeed': '4'}}, {'startTime': '2025-04-25T12:00:00Z', 'values': {'humidityAvg': '91', 'precipitationProbability': '0', 'temperature': '34.4', 'windSpeed': '3.5'}}, {'startTime': '2025-04-25T13:00:00Z', 'values': {'humidityAvg': '93', 'precipitationProbability': '0', 'temperature': '32.7', 'windSpeed': '3.9'}}, {'startTime': '2025-04-25T14:00:00Z', 'values': {'humidityAvg': '94', 'precipitationProbability': '0', 'temperature': '31.2', 'windSpeed': '3.7'}}, {'startTime': '2025-04-25T15:00:00Z', 'values': {'humidityAvg': '92', 'precipitationProbability': '0', 'temperature': '31.9', 'windSpeed': '2.6'}}, {'startTime': '2025-04-25T16:00:00Z', 'values': {'humidityAvg': '86', 'precipitationProbability': '0', 'temperature': '34.5', 'windSpeed': '1.5'}}, {'startTime': '2025-04-25T17:00:00Z', 'values': {'humidityAvg': '76', 'precipitationProbability': '0', 'temperature': '39.1', 'windSpeed': '0.2'}}, {'startTime': '2025-04-25T18:00:00Z', 'values': {'humidityAvg': '69', 'precipitationProbability': '0', 'temperature': '41.6', 'windSpeed': '2.6'}}, {'startTime': '2025-04-25T19:00:00Z', 'values': {'humidityAvg': '66', 'precipitationProbability': '0', 'temperature': '43.1', 'windSpeed': '3.7'}}, {'startTime': '2025-04-25T20:00:00Z', 'values': {'humidityAvg': '62', 'precipitationProbability': '0', 'temperature': '44.5', 'windSpeed': '4.1'}}, {'startTime': '2025-04-25T21:00:00Z', 'values': {'humidityAvg': '58', 'precipitationProbability': '0', 'temperature': '45.6', 'windSpeed': '5'}}, {'startTime': '2025-04-25T22:00:00Z', 'values': {'humidityAvg': '55', 'precipitationProbability': '0', 'temperature': '46.2', 'windSpeed': '5.9'}}, {'startTime': '2025-04-25T23:00:00Z', 'values': {'humidityAvg': '50', 'precipitationProbability': '0', 'temperature': '47.4', 'windSpeed': '8.4'}}, {'startTime': '2025-04-26T00:00:00Z', 'values': {'humidityAvg': '51', 'precipitationProbability': '0', 'temperature': '47.3', 'windSpeed': '10'}}, {'startTime': '2025-04-26T01:00:00Z', 'values': {'humidityAvg': '52', 'precipitationProbability': '0', 'temperature': '47', 'windSpeed': '10.6'}}, {'startTime': '2025-04-26T02:00:00Z', 'values': {'humidityAvg': '54', 'precipitationProbability': '0', 'temperature': '46.2', 'windSpeed': '10.8'}}, {'startTime': '2025-04-26T03:00:00Z', 'values': {'humidityAvg': '56', 'precipitationProbability': '0', 'temperature': '45.5', 'windSpeed': '10.1'}}, {'startTime': '2025-04-26T04:00:00Z', 'values': {'humidityAvg': '60', 'precipitationProbability': '0', 'temperature': '44.2', 'windSpeed': '7.9'}}, {'startTime': '2025-04-26T05:00:00Z', 'values': {'humidityAvg': '67', 'precipitationProbability': '0', 'temperature': '41.9', 'windSpeed': '5.6'}}, {'startTime': '2025-04-26T06:00:00Z', 'values': {'humidityAvg': '74', 'precipitationProbability': '0', 'temperature': '39.3', 'windSpeed': '4.3'}}, {'startTime': '2025-04-26T07:00:00Z', 'values': {'humidityAvg': '80', 'precipitationProbability': '0', 'temperature': '37.3', 'windSpeed': '3.1'}}, {'startTime': '2025-04-26T08:00:00Z', 'values': {'humidityAvg': '85', 'precipitationProbability': '0', 'temperature': '35.6', 'windSpeed': '3.2'}}, {'startTime': '2025-04-26T09:00:00Z', 'values': {'humidityAvg': '88', 'precipitationProbability': '0', 'temperature': '34.4', 'windSpeed': '3'}}, {'startTime': '2025-04-26T10:00:00Z', 'values': {'humidityAvg': '89', 'precipitationProbability': '0', 'temperature': '33.1', 'windSpeed': '3'}}, {'startTime': '2025-04-26T11:00:00Z', 'values': {'humidityAvg': '90', 'precipitationProbability': '0', 'temperature': '32.3', 'windSpeed': '2.3'}}, {'startTime': '2025-04-26T12:00:00Z', 'values': {'humidityAvg': '90', 'precipitationProbability': '0', 'temperature': '32', 'windSpeed': '2.2'}}, {'startTime': '2025-04-26T13:00:00Z', 'values': {'humidityAvg': '88', 'precipitationProbability': '0', 'temperature': '32', 'windSpeed': '3.1'}}, {'startTime': '2025-04-26T14:00:00Z', 'values': {'humidityAvg': '91', 'precipitationProbability': '0', 'temperature': '31.6', 'windSpeed': '3.1'}}, {'startTime': '2025-04-26T15:00:00Z', 'values': {'humidityAvg': '92', 'precipitationProbability': '0', 'temperature': '31.6', 'windSpeed': '2.3'}}, {'startTime': '2025-04-26T16:00:00Z', 'values': {'humidityAvg': '87', 'precipitationProbability': '0', 'temperature': '34.8', 'windSpeed': '3.1'}}, {'startTime': '2025-04-26T17:00:00Z', 'values': {'humidityAvg': '78', 'precipitationProbability': '0', 'temperature': '38.6', 'windSpeed': '3.9'}}, {'startTime': '2025-04-26T18:00:00Z', 'values': {'humidityAvg': '70', 'precipitationProbability': '0', 'temperature': '41.3', 'windSpeed': '3.8'}}, {'startTime': '2025-04-26T19:00:00Z', 'values': {'humidityAvg': '63', 'precipitationProbability': '0', 'temperature': '43.5', 'windSpeed': '4.2'}}, {'startTime': '2025-04-26T20:00:00Z', 'values': {'humidityAvg': '57', 'precipitationProbability': '0', 'temperature': '44.8', 'windSpeed': '2.2'}}, {'startTime': '2025-04-26T21:00:00Z', 'values': {'humidityAvg': '52', 'precipitationProbability': '0', 'temperature': '45.6', 'windSpeed': '1.6'}}, {'startTime': '2025-04-26T22:00:00Z', 'values': {'humidityAvg': '52', 'precipitationProbability': '0', 'temperature': '46', 'windSpeed': '1.8'}}, {'startTime': '2025-04-26T23:00:00Z', 'values': {'humidityAvg': '55', 'precipitationProbability': '15', 'temperature': '45.5', 'windSpeed': '3.3'}}, {'startTime': '2025-04-27T00:00:00Z', 'values': {'humidityAvg': '58', 'precipitationProbability': '15', 'temperature': '44.9', 'windSpeed': '2.8'}}, {'startTime': '2025-04-27T01:00:00Z', 'values': {'humidityAvg': '62', 'precipitationProbability': '15', 'temperature': '44.4', 'windSpeed': '3.6'}}, {'startTime': '2025-04-27T02:00:00Z', 'values': {'humidityAvg': '65', 'precipitationProbability': '20', 'temperature': '43.9', 'windSpeed': '4.4'}}, {'startTime': '2025-04-27T03:00:00Z', 'values': {'humidityAvg': '69', 'precipitationProbability': '20', 'temperature': '43.4', 'windSpeed': '5.2'}}, {'startTime': '2025-04-27T04:00:00Z', 'values': {'humidityAvg': '73', 'precipitationProbability': '20', 'temperature': '42.1', 'windSpeed': '3.9'}}, {'startTime': '2025-04-27T05:00:00Z', 'values': {'humidityAvg': '78', 'precipitationProbability': '0', 'temperature': '40.8', 'windSpeed': '2.7'}}, {'startTime': '2025-04-27T06:00:00Z', 'values': {'humidityAvg': '82', 'precipitationProbability': '0', 'temperature': '39.5', 'windSpeed': '1.4'}}, {'startTime': '2025-04-27T07:00:00Z', 'values': {'humidityAvg': '83', 'precipitationProbability': '0', 'temperature': '38.9', 'windSpeed': '1.5'}}, {'startTime': '2025-04-27T08:00:00Z', 'values': {'humidityAvg': '84', 'precipitationProbability': '0', 'temperature': '38.4', 'windSpeed': '1.6'}}, {'startTime': '2025-04-27T09:00:00Z', 'values': {'humidityAvg': '85', 'precipitationProbability': '0', 'temperature': '37.9', 'windSpeed': '1.7'}}, {'startTime': '2025-04-27T10:00:00Z', 'values': {'humidityAvg': '85', 'precipitationProbability': '0', 'temperature': '37.7', 'windSpeed': '1.8'}}, {'startTime': '2025-04-27T11:00:00Z', 'values': {'humidityAvg': '84', 'precipitationProbability': '0', 'temperature': '37.5', 'windSpeed': '1.9'}}, {'startTime': '2025-04-27T12:00:00Z', 'values': {'humidityAvg': '84', 'precipitationProbability': '0', 'temperature': '37.4', 'windSpeed': '2'}}, {'startTime': '2025-04-27T13:00:00Z', 'values': {'humidityAvg': '84', 'precipitationProbability': '0', 'temperature': '37.1', 'windSpeed': '2.1'}}, {'startTime': '2025-04-27T14:00:00Z', 'values': {'humidityAvg': '84', 'precipitationProbability': '0', 'temperature': '36.8', 'windSpeed': '2.3'}}, {'startTime': '2025-04-27T15:00:00Z', 'values': {'humidityAvg': '84', 'precipitationProbability': '0', 'temperature': '36.5', 'windSpeed': '2.4'}}, {'startTime': '2025-04-27T16:00:00Z', 'values': {'humidityAvg': '81', 'precipitationProbability': '0', 'temperature': '37.7', 'windSpeed': '2.4'}}, {'startTime': '2025-04-27T17:00:00Z', 'values': {'humidityAvg': '79', 'precipitationProbability': '0', 'temperature': '38.9', 'windSpeed': '2.5'}}, {'startTime': '2025-04-27T18:00:00Z', 'values': {'humidityAvg': '77', 'precipitationProbability': '0', 'temperature': '40.1', 'windSpeed': '2.5'}}, {'startTime': '2025-04-27T19:00:00Z', 'values': {'humidityAvg': '72', 'precipitationProbability': '0', 'temperature': '41.6', 'windSpeed': '2.9'}}, {'startTime': '2025-04-27T20:00:00Z', 'values': {'humidityAvg': '67', 'precipitationProbability': '0', 'temperature': '43', 'windSpeed': '3.3'}}, {'startTime': '2025-04-27T21:00:00Z', 'values': {'humidityAvg': '62', 'precipitationProbability': '0', 'temperature': '44.4', 'windSpeed': '3.7'}}, {'startTime': '2025-04-27T22:00:00Z', 'values': {'humidityAvg': '62', 'precipitationProbability': '0', 'temperature': '44.7', 'windSpeed': '4.1'}}, {'startTime': '2025-04-27T23:00:00Z', 'values': {'humidityAvg': '62', 'precipitationProbability': '0', 'temperature': '44.9', 'windSpeed': '4.5'}}, {'startTime': '2025-04-28T00:00:00Z', 'values': {'humidityAvg': '62', 'precipitationProbability': '0', 'temperature': '45.1', 'windSpeed': '4.9'}}, {'startTime': '2025-04-28T01:00:00Z', 'values': {'humidityAvg': '64', 'precipitationProbability': '0', 'temperature': '45.1', 'windSpeed': '4.1'}}, {'startTime': '2025-04-28T02:00:00Z', 'values': {'humidityAvg': '65', 'precipitationProbability': '0', 'temperature': '45', 'windSpeed': '3.3'}}, {'startTime': '2025-04-28T03:00:00Z', 'values': {'humidityAvg': '67', 'precipitationProbability': '0', 'temperature': '44.9', 'windSpeed': '2.5'}}, {'startTime': '2025-04-28T04:00:00Z', 'values': {'humidityAvg': '73', 'precipitationProbability': '0', 'temperature': '43.4', 'windSpeed': '2.6'}}, {'startTime': '2025-04-28T05:00:00Z', 'values': {'humidityAvg': '79', 'precipitationProbability': '15', 'temperature': '41.8', 'windSpeed': '2.8'}}, {'startTime': '2025-04-28T06:00:00Z', 'values': {'humidityAvg': '84', 'precipitationProbability': '15', 'temperature': '40.2', 'windSpeed': '3'}}, {'startTime': '2025-04-28T07:00:00Z', 'values': {'humidityAvg': '87', 'precipitationProbability': '15', 'temperature': '39.3', 'windSpeed': '3'}}, {'startTime': '2025-04-28T08:00:00Z', 'values': {'humidityAvg': '89', 'precipitationProbability': '15', 'temperature': '38.3', 'windSpeed': '3'}}, {'startTime': '2025-04-28T09:00:00Z', 'values': {'humidityAvg': '91', 'precipitationProbability': '15', 'temperature': '37.3', 'windSpeed': '3'}}, {'startTime': '2025-04-28T10:00:00Z', 'values': {'humidityAvg': '93', 'precipitationProbability': '15', 'temperature': '36.9', 'windSpeed': '2.4'}}, {'startTime': '2025-04-28T11:00:00Z', 'values': {'humidityAvg': '94', 'precipitationProbability': '20', 'temperature': '36.5', 'windSpeed': '1.7'}}, {'startTime': '2025-04-28T12:00:00Z', 'values': {'humidityAvg': '96', 'precipitationProbability': '20', 'temperature': '36.2', 'windSpeed': '1.1'}}, {'startTime': '2025-04-28T13:00:00Z', 'values': {'humidityAvg': '95', 'precipitationProbability': '20', 'temperature': '36.4', 'windSpeed': '1.6'}}, {'startTime': '2025-04-28T14:00:00Z', 'values': {'humidityAvg': '94', 'precipitationProbability': '20', 'temperature': '36.5', 'windSpeed': '2.1'}}, {'startTime': '2025-04-28T15:00:00Z', 'values': {'humidityAvg': '94', 'precipitationProbability': '20', 'temperature': '36.7', 'windSpeed': '2.6'}}, {'startTime': '2025-04-28T16:00:00Z', 'values': {'humidityAvg': '93', 'precipitationProbability': '20', 'temperature': '37.5', 'windSpeed': '2.4'}}]}]\"}]"
      ]
     },
     "execution_count": 20,
     "metadata": {},
     "output_type": "execute_result"
    }
   ],
   "source": [
    "input_message"
   ]
  },
  {
   "cell_type": "markdown",
   "metadata": {},
   "source": [
    "Need to add tool call to input message, along with output. In this scenario below, we are asking the question, the model will request to use one of the tools, we respond you already used it and this was the provided output, so you have the info you need to answer the question and don't actually have to make a tool call."
   ]
  },
  {
   "cell_type": "code",
   "execution_count": 21,
   "metadata": {},
   "outputs": [],
   "source": [
    "response = client.responses.create(\n",
    "    model=\"gpt-4.1-nano\",\n",
    "    input=input_message,\n",
    "    tools=(calendar_get_events + weather_tool),\n",
    ")"
   ]
  },
  {
   "cell_type": "code",
   "execution_count": 22,
   "metadata": {},
   "outputs": [
    {
     "data": {
      "text/plain": [
       "'Based on your schedule and the weather forecast, the best time for a 30-minute run appears to be on the afternoon of April 24th, between 4:00 PM and 5:00 PM local time. The weather looks favorable with a temperature around 35.6°F, low humidity, no precipitation, and gentle wind. Would you like me to schedule the run for you?'"
      ]
     },
     "execution_count": 22,
     "metadata": {},
     "output_type": "execute_result"
    }
   ],
   "source": [
    "response.output_text"
   ]
  },
  {
   "cell_type": "code",
   "execution_count": null,
   "metadata": {},
   "outputs": [],
   "source": []
  }
 ],
 "metadata": {
  "kernelspec": {
   "display_name": ".venv",
   "language": "python",
   "name": "python3"
  },
  "language_info": {
   "codemirror_mode": {
    "name": "ipython",
    "version": 3
   },
   "file_extension": ".py",
   "mimetype": "text/x-python",
   "name": "python",
   "nbconvert_exporter": "python",
   "pygments_lexer": "ipython3",
   "version": "3.9.6"
  }
 },
 "nbformat": 4,
 "nbformat_minor": 2
}
