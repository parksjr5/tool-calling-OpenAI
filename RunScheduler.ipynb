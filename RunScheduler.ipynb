{
 "cells": [
  {
   "cell_type": "markdown",
   "metadata": {},
   "source": [
    "#### \n",
    "\n",
    "Goal: Review upcoming weather to determine when would be the best time period for someone to run.   \n",
    "- Agent 1: Extract longitude and latitude coordinates from city in prompt, return weather \n",
    "- Agent 2: Evaluate when is best time period to run"
   ]
  },
  {
   "cell_type": "markdown",
   "metadata": {},
   "source": [
    "### Import Credentials"
   ]
  },
  {
   "cell_type": "code",
   "execution_count": null,
   "metadata": {},
   "outputs": [],
   "source": [
    "# !pip install openai\n",
    "# !pip install requests"
   ]
  },
  {
   "cell_type": "code",
   "execution_count": 1,
   "metadata": {},
   "outputs": [
    {
     "name": "stderr",
     "output_type": "stream",
     "text": [
      "/Users/jparks/Repositories/tool-calling-OpenAI/.venv/lib/python3.9/site-packages/urllib3/__init__.py:35: NotOpenSSLWarning: urllib3 v2 only supports OpenSSL 1.1.1+, currently the 'ssl' module is compiled with 'LibreSSL 2.8.3'. See: https://github.com/urllib3/urllib3/issues/3020\n",
      "  warnings.warn(\n"
     ]
    }
   ],
   "source": [
    "from creds import credentials\n",
    "import calendars\n",
    "import weather\n",
    "import json\n",
    "from openai import OpenAI\n",
    "import os"
   ]
  },
  {
   "cell_type": "code",
   "execution_count": 2,
   "metadata": {},
   "outputs": [],
   "source": [
    "# get keys\n",
    "openai_key = credentials['tool-calling-OpenAI']\n",
    "weather_api = credentials['weather_api']"
   ]
  },
  {
   "cell_type": "markdown",
   "metadata": {},
   "source": [
    "## *Agent #1: Extract location and get weather*"
   ]
  },
  {
   "cell_type": "code",
   "execution_count": 4,
   "metadata": {},
   "outputs": [],
   "source": [
    "# 1A: Define function\n",
    "\n",
    "weather_tool = [{\n",
    "    # weather tool\n",
    "        \"type\": \"function\",\n",
    "        \"name\": \"get_weather\",\n",
    "        \"description\":\"get temperature, humidity, precipitation, wind speed for specified location for the next 5 days.\",\n",
    "        \"parameters\":{\n",
    "            # param names + types\n",
    "            \"type\": \"object\",\n",
    "            \"properties\": {\n",
    "                \"lat\": {\"type\":\"number\"},\n",
    "                \"long\":{\"type\":\"number\"}\n",
    "            },\n",
    "            # all params in required b/c strict = True\n",
    "            \"required\": [\"lat\", \"long\"],\n",
    "            \"additionalProperties\": False\n",
    "        },\n",
    "    # recommended to always use true\n",
    "    # does not allow model to skip parameteres\n",
    "    \"strict\" : True\n",
    "}]"
   ]
  },
  {
   "cell_type": "markdown",
   "metadata": {},
   "source": [
    "### *Agent #2: Get Upcoming calendar events*"
   ]
  },
  {
   "cell_type": "code",
   "execution_count": 5,
   "metadata": {},
   "outputs": [],
   "source": [
    "calendar_get_events = [{\n",
    "    # weather tool\n",
    "        \"type\": \"function\",\n",
    "        \"name\": \"get_upcoming_event\",\n",
    "        \"description\":\"Get the days and times from teh user calendar of when they will be busy in the upcoming days. The furthest you can look ahead is 5 days.\",\n",
    "        \"parameters\":{\n",
    "            # param names + types\n",
    "            \"type\": \"object\",\n",
    "            \"properties\": {\n",
    "                \"cal_id\": {\"type\":\"string\",\n",
    "                           \"description\":\"\"\"ID of the calendar to use. It is a random combination of letters and numbers. \n",
    "                           Do not use this parameter if they do not give an ID.\"\"\"},\n",
    "                \"in_future\":{\"type\":\"number\",\n",
    "                             \"description\":\"Number of days to look ahead. Do not fill in if the user does not provide it, there is a default value in function.\"}\n",
    "            },\n",
    "            # all params in required when strict = True\n",
    "            # \"required\": [\"cal_id\", \"in_future\"],\n",
    "            \"additionalProperties\": False\n",
    "        },\n",
    "    # setting to False\n",
    "    # so blank string doen't override defaults\n",
    "    \"strict\" : False\n",
    "}]"
   ]
  },
  {
   "cell_type": "markdown",
   "metadata": {},
   "source": [
    "### *Agent 3: Write Event to Schedule*"
   ]
  },
  {
   "cell_type": "code",
   "execution_count": 6,
   "metadata": {},
   "outputs": [],
   "source": [
    "schedule_event = [{\n",
    "    # create event\n",
    "        \"type\": \"function\",\n",
    "        \"name\": \"write_event\",\n",
    "        \"description\":\"\"\"Schedule the event passed to you.\n",
    "                        Please convert the length of the event into hours.\"\"\",\n",
    "        \"parameters\":{\n",
    "            # param names + types\n",
    "            \"type\": \"object\",\n",
    "            \"properties\": {\n",
    "                \"start_time\": {\"type\":\"string\",\n",
    "                           \"description\":\"\"\"When the event should begin.\n",
    "                                            The output of the time should follow the format of '%Y-%m-%dT%H:%M:%S'.\"\"\"},\n",
    "                \"length_of_meeting\":{\"type\":\"number\",\n",
    "                             \"description\":\"Number of days to look ahead. Do not fill in if the user does not provide it, there is a default value in function.\"}\n",
    "            },\n",
    "            # all params in required when strict = True\n",
    "            \"required\": [\"start_time\", \"length_of_meeting\"],\n",
    "            \"additionalProperties\": False\n",
    "        },\n",
    "    # setting to False\n",
    "    # so blank string doen't override defaults\n",
    "    \"strict\" : True\n",
    "}]"
   ]
  },
  {
   "cell_type": "markdown",
   "metadata": {},
   "source": [
    "### *Agent #4: Review the weather and evaluate when it would be best to run outside*"
   ]
  },
  {
   "cell_type": "markdown",
   "metadata": {},
   "source": [
    "Step 1: Get the input message"
   ]
  },
  {
   "cell_type": "code",
   "execution_count": null,
   "metadata": {},
   "outputs": [],
   "source": [
    "# Message\n",
    "input_message = [{\n",
    "    \"role\":\"user\",\n",
    "    \"content\": \"\"\"I live in Anchorage, Alaska. \"\n",
    "    \"What is the best day and time to go for a 30 minute run based on the weather and my work schedule for the next 2 days? \"\n",
    "    \"Please schedule it between meetings and during early afternoon, before 5 p.m.\"\"\",\n",
    "}]"
   ]
  },
  {
   "cell_type": "markdown",
   "metadata": {},
   "source": [
    "Step 2: Input the message along with the tools that can be used."
   ]
  },
  {
   "cell_type": "code",
   "execution_count": null,
   "metadata": {},
   "outputs": [],
   "source": [
    "# create client\n",
    "client = OpenAI(api_key=openai_key)\n",
    "\n",
    "response = client.responses.create(\n",
    "    model=\"gpt-4.1-nano\",\n",
    "    input=input_message,\n",
    "    tools=(calendar_get_events + weather_tool)\n",
    ")"
   ]
  },
  {
   "cell_type": "markdown",
   "metadata": {},
   "source": [
    "Step 3: Create a function that will extract the parameters that Step 2 outputs, so we can plug the parameters into the tool call functions."
   ]
  },
  {
   "cell_type": "code",
   "execution_count": null,
   "metadata": {},
   "outputs": [],
   "source": [
    "# function to take argument outputs from model\n",
    "# and plug them into the function to get their return\n",
    "def call_function(name, args):\n",
    "    if name == \"get_weather\":\n",
    "        return weather.get_weather(**args)\n",
    "    if name == \"get_upcoming_event\":\n",
    "        return calendars.get_upcoming_events(**args)"
   ]
  },
  {
   "cell_type": "markdown",
   "metadata": {},
   "source": [
    "Step 4: Plug parameters into tools, save outputs."
   ]
  },
  {
   "cell_type": "code",
   "execution_count": null,
   "metadata": {},
   "outputs": [],
   "source": [
    "for tool_call in response.output:\n",
    "    if tool_call.type != \"function_call\":\n",
    "        continue\n",
    "    \n",
    "    # get function name\n",
    "    name = tool_call.name\n",
    "    args = json.loads(tool_call.arguments)\n",
    "    \n",
    "    # drop filling string statement of cal_id\n",
    "    if tool_call.name == 'get_upcoming_event':\n",
    "        print(args['cal_id'])\n",
    "        id_has_num = any(char.isdigit() for char in args['cal_id'])\n",
    "        if not id_has_num: args.pop('cal_id', None)\n",
    "\n",
    "    # call function + get output\n",
    "    result = call_function(name, args)\n",
    "    input_message.append(tool_call)\n",
    "    input_message.append({\n",
    "        \"type\": \"function_call_output\",\n",
    "        \"call_id\": tool_call.call_id,\n",
    "        \"output\": str(result)\n",
    "    })"
   ]
  },
  {
   "cell_type": "markdown",
   "metadata": {},
   "source": [
    "Step 5: Call the same client again, but now with the function outputs tacked on to the input message.   \n",
    "In this scenario below, we are:\n",
    "1. asking the question\n",
    "2. the model will request to use one of the tools\n",
    "3. we respond you already used it and this was the provided output.... so you have the info you need to answer the question and don't actually have to make a tool call."
   ]
  },
  {
   "cell_type": "code",
   "execution_count": null,
   "metadata": {},
   "outputs": [],
   "source": [
    "response = client.responses.create(\n",
    "    model=\"gpt-4.1-nano\",\n",
    "    input=input_message,\n",
    "    tools=(calendar_get_events + weather_tool),\n",
    ")"
   ]
  },
  {
   "cell_type": "code",
   "execution_count": null,
   "metadata": {},
   "outputs": [],
   "source": [
    "input_msg = \"Please schedule a block of time or a run based on your response of the best day and time to run: \" + response.output_text\n",
    "print(\"Here is our new input message:\", input_msg)"
   ]
  },
  {
   "cell_type": "markdown",
   "metadata": {},
   "source": [
    "### Call Agent #3 to Schedule Event"
   ]
  },
  {
   "cell_type": "markdown",
   "metadata": {},
   "source": [
    "Here we are including the input message from above that contains all the information needed to schedule the event. Now we just have the model schedule it based on the information provided."
   ]
  },
  {
   "cell_type": "code",
   "execution_count": null,
   "metadata": {},
   "outputs": [],
   "source": [
    "response = client.responses.create(\n",
    "    model=\"gpt-4.1-nano\",\n",
    "    input=input_msg,\n",
    "    tools=(schedule_event),\n",
    ")"
   ]
  },
  {
   "cell_type": "code",
   "execution_count": null,
   "metadata": {},
   "outputs": [],
   "source": [
    "import calendars\n",
    "for tool_call in response.output:\n",
    "    # change arguments from string into json\n",
    "    args = json.loads(tool_call.arguments)\n",
    "    calendars.write_event(**args)\n",
    "    print('Calendar updated!')"
   ]
  }
 ],
 "metadata": {
  "kernelspec": {
   "display_name": ".venv",
   "language": "python",
   "name": "python3"
  },
  "language_info": {
   "codemirror_mode": {
    "name": "ipython",
    "version": 3
   },
   "file_extension": ".py",
   "mimetype": "text/x-python",
   "name": "python",
   "nbconvert_exporter": "python",
   "pygments_lexer": "ipython3",
   "version": "3.9.6"
  }
 },
 "nbformat": 4,
 "nbformat_minor": 2
}
